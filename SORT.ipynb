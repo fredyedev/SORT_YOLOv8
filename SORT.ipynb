{
  "nbformat": 4,
  "nbformat_minor": 0,
  "metadata": {
    "colab": {
      "provenance": []
    },
    "kernelspec": {
      "name": "python3",
      "display_name": "Python 3"
    },
    "language_info": {
      "name": "python"
    }
  },
  "cells": [
    {
      "cell_type": "code",
      "source": [
        "!pip install ultralytics > null\n",
        "!pip install filterpy > null"
      ],
      "metadata": {
        "id": "MUIIjrbQSRII"
      },
      "execution_count": null,
      "outputs": []
    },
    {
      "cell_type": "code",
      "source": [
        "import os\n",
        "import numpy as np\n",
        "from skimage import io\n",
        "import glob\n",
        "import time\n",
        "import argparse\n",
        "from filterpy.kalman import KalmanFilter\n",
        "import cv2\n",
        "from ultralytics import YOLO\n",
        "import tensorflow as tf\n",
        "from scipy.optimize import linear_sum_assignment\n",
        "import random"
      ],
      "metadata": {
        "id": "273UQ0T6Sxfn"
      },
      "execution_count": null,
      "outputs": []
    },
    {
      "cell_type": "code",
      "source": [
        "from collections import deque"
      ],
      "metadata": {
        "id": "FuvLHSSaCo8t"
      },
      "execution_count": null,
      "outputs": []
    },
    {
      "cell_type": "code",
      "source": [
        "np.random.seed(0)"
      ],
      "metadata": {
        "id": "EleN4JNbS1E2"
      },
      "execution_count": null,
      "outputs": []
    },
    {
      "cell_type": "code",
      "source": [
        "def linear_assignment(cost_matrix):\n",
        "  x, y = linear_sum_assignment(cost_matrix)\n",
        "  return np.array(list(zip(x, y)))"
      ],
      "metadata": {
        "id": "383Mwf2ljJxo"
      },
      "execution_count": null,
      "outputs": []
    },
    {
      "cell_type": "code",
      "source": [
        "def iou_batch(bb_test, bb_gt):\n",
        "\n",
        "  bb_gt = np.expand_dims(bb_gt, 0)\n",
        "  bb_test = np.expand_dims(bb_test, 1)\n",
        "\n",
        "  xx1 = np.maximum(bb_test[..., 0], bb_gt[..., 0])\n",
        "  yy1 = np.maximum(bb_test[..., 1], bb_gt[..., 1])\n",
        "  xx2 = np.minimum(bb_test[..., 2], bb_gt[..., 2])\n",
        "  yy2 = np.minimum(bb_test[..., 3], bb_gt[..., 3])\n",
        "  w = np.maximum(0., xx2 - xx1)\n",
        "  h = np.maximum(0., yy2 - yy1)\n",
        "  wh = w * h\n",
        "  o = wh / ((bb_test[..., 2] - bb_test[..., 0]) * (bb_test[..., 3] - bb_test[..., 1])\n",
        "    + (bb_gt[..., 2] - bb_gt[..., 0]) * (bb_gt[..., 3] - bb_gt[..., 1]) - wh)\n",
        "  return(o)"
      ],
      "metadata": {
        "id": "hgDFXVgpjOY9"
      },
      "execution_count": null,
      "outputs": []
    },
    {
      "cell_type": "code",
      "source": [
        "def convert_bbox_to_z(bbox):\n",
        "\n",
        "  w = bbox[2] - bbox[0]\n",
        "  h = bbox[3] - bbox[1]\n",
        "  x = bbox[0] + w/2.\n",
        "  y = bbox[1] + h/2.\n",
        "  s = w * h    #scale is just area\n",
        "  r = w / float(h)\n",
        "  return np.array([x, y, s, r]).reshape((4, 1))"
      ],
      "metadata": {
        "id": "6pBmmKkQjTeW"
      },
      "execution_count": null,
      "outputs": []
    },
    {
      "cell_type": "code",
      "source": [
        "def convert_x_to_bbox(x,score=None):\n",
        "\n",
        "  w = np.sqrt(x[2] * x[3])\n",
        "  h = x[2] / w\n",
        "  if(score==None):\n",
        "    return np.array([x[0]-w/2.,x[1]-h/2.,x[0]+w/2.,x[1]+h/2.]).reshape((1,4))\n",
        "  else:\n",
        "    return np.array([x[0]-w/2.,x[1]-h/2.,x[0]+w/2.,x[1]+h/2.,score]).reshape((1,5))\n"
      ],
      "metadata": {
        "id": "ZT9h6xQ1jZDK"
      },
      "execution_count": null,
      "outputs": []
    },
    {
      "cell_type": "code",
      "execution_count": null,
      "metadata": {
        "id": "57cMCTLkbYcm"
      },
      "outputs": [],
      "source": [
        "class KalmanBoxTracker(object):\n",
        "  count = 0\n",
        "  def __init__(self,bbox):\n",
        "\n",
        "    #define constant velocity model\n",
        "    self.kf = KalmanFilter(dim_x=7, dim_z=4)\n",
        "    self.kf.F = np.array([[1,0,0,0,1,0,0],[0,1,0,0,0,1,0],[0,0,1,0,0,0,1],[0,0,0,1,0,0,0],  [0,0,0,0,1,0,0],[0,0,0,0,0,1,0],[0,0,0,0,0,0,1]])\n",
        "    self.kf.H = np.array([[1,0,0,0,0,0,0],[0,1,0,0,0,0,0],[0,0,1,0,0,0,0],[0,0,0,1,0,0,0]])\n",
        "\n",
        "    self.kf.R[2:,2:] *= 10.\n",
        "    self.kf.P[4:,4:] *= 1000. #give high uncertainty to the unobservable initial velocities\n",
        "    self.kf.P *= 10.\n",
        "    self.kf.Q[-1,-1] *= 0.01\n",
        "    self.kf.Q[4:,4:] *= 0.01\n",
        "\n",
        "    self.kf.x[:4] = convert_bbox_to_z(bbox)\n",
        "    self.time_since_update = 0\n",
        "    self.id = KalmanBoxTracker.count\n",
        "    KalmanBoxTracker.count += 1\n",
        "    self.history = []\n",
        "    self.hits = 0\n",
        "    self.hit_streak = 0\n",
        "    self.age = 0\n",
        "\n",
        "  def update(self,bbox):\n",
        "\n",
        "    self.time_since_update = 0\n",
        "    self.history = []\n",
        "    self.hits += 1\n",
        "    self.hit_streak += 1\n",
        "    self.kf.update(convert_bbox_to_z(bbox))\n",
        "\n",
        "  def predict(self):\n",
        "\n",
        "    if((self.kf.x[6]+self.kf.x[2])<=0):\n",
        "      self.kf.x[6] *= 0.0\n",
        "    self.kf.predict()\n",
        "    self.age += 1\n",
        "    if(self.time_since_update>0):\n",
        "      self.hit_streak = 0\n",
        "    self.time_since_update += 1\n",
        "    self.history.append(convert_x_to_bbox(self.kf.x))\n",
        "    return self.history[-1]\n",
        "\n",
        "  def get_state(self):\n",
        "    return convert_x_to_bbox(self.kf.x)\n"
      ]
    },
    {
      "cell_type": "code",
      "source": [
        "def associate_detections_to_trackers(detections,trackers,iou_threshold = 0.3):\n",
        "\n",
        "  if(len(trackers)==0):\n",
        "    return np.empty((0,2),dtype=int), np.arange(len(detections)), np.empty((0,5),dtype=int)\n",
        "\n",
        "  iou_matrix = iou_batch(detections, trackers)\n",
        "\n",
        "  if min(iou_matrix.shape) > 0:\n",
        "    a = (iou_matrix > iou_threshold).astype(np.int32)\n",
        "    if a.sum(1).max() == 1 and a.sum(0).max() == 1:\n",
        "        matched_indices = np.stack(np.where(a), axis=1)\n",
        "    else:\n",
        "      matched_indices = linear_assignment(-iou_matrix)\n",
        "  else:\n",
        "    matched_indices = np.empty(shape=(0,2))\n",
        "\n",
        "  unmatched_detections = []\n",
        "  for d, det in enumerate(detections):\n",
        "    if(d not in matched_indices[:,0]):\n",
        "      unmatched_detections.append(d)\n",
        "  unmatched_trackers = []\n",
        "  for t, trk in enumerate(trackers):\n",
        "    if(t not in matched_indices[:,1]):\n",
        "      unmatched_trackers.append(t)\n",
        "\n",
        "  #filter out matched with low IOU\n",
        "  matches = []\n",
        "  for m in matched_indices:\n",
        "    if(iou_matrix[m[0], m[1]]<iou_threshold):\n",
        "      unmatched_detections.append(m[0])\n",
        "      unmatched_trackers.append(m[1])\n",
        "    else:\n",
        "      matches.append(m.reshape(1,2))\n",
        "  if(len(matches)==0):\n",
        "    matches = np.empty((0,2),dtype=int)\n",
        "  else:\n",
        "    matches = np.concatenate(matches,axis=0)\n",
        "\n",
        "  return matches, np.array(unmatched_detections), np.array(unmatched_trackers)\n"
      ],
      "metadata": {
        "id": "6EhZneb3jgRt"
      },
      "execution_count": null,
      "outputs": []
    },
    {
      "cell_type": "code",
      "source": [
        "class Sort(object):\n",
        "  def __init__(self, max_age=1, min_hits=3, iou_threshold=0.3):\n",
        "\n",
        "    self.max_age = max_age\n",
        "    self.min_hits = min_hits\n",
        "    self.iou_threshold = iou_threshold\n",
        "    self.trackers = []\n",
        "    self.frame_count = 0\n",
        "\n",
        "  def update(self, dets=np.empty((0, 5))):\n",
        "\n",
        "    self.frame_count += 1\n",
        "    # get predicted locations from existing trackers.\n",
        "    trks = np.zeros((len(self.trackers), 5))\n",
        "    to_del = []\n",
        "    ret = []\n",
        "    for t, trk in enumerate(trks):\n",
        "      pos = self.trackers[t].predict()[0]\n",
        "      trk[:] = [pos[0], pos[1], pos[2], pos[3], 0]\n",
        "      if np.any(np.isnan(pos)):\n",
        "        to_del.append(t)\n",
        "    trks = np.ma.compress_rows(np.ma.masked_invalid(trks))\n",
        "    for t in reversed(to_del):\n",
        "      self.trackers.pop(t)\n",
        "    matched, unmatched_dets, unmatched_trks = associate_detections_to_trackers(dets,trks, self.iou_threshold)\n",
        "\n",
        "    # update matched trackers with assigned detections\n",
        "    for m in matched:\n",
        "      self.trackers[m[1]].update(dets[m[0], :])\n",
        "\n",
        "    # create and initialise new trackers for unmatched detections\n",
        "    for i in unmatched_dets:\n",
        "        trk = KalmanBoxTracker(dets[i,:])\n",
        "        self.trackers.append(trk)\n",
        "    i = len(self.trackers)\n",
        "    for trk in reversed(self.trackers):\n",
        "        d = trk.get_state()[0]\n",
        "        if (trk.time_since_update < 1) and (trk.hit_streak >= self.min_hits or self.frame_count <= self.min_hits):\n",
        "          ret.append(np.concatenate((d,[trk.id+1])).reshape(1,-1)) # +1 as MOT benchmark requires positive\n",
        "        i -= 1\n",
        "        # remove dead tracklet\n",
        "        if(trk.time_since_update > self.max_age):\n",
        "          self.trackers.pop(i)\n",
        "    if(len(ret)>0):\n",
        "      return np.concatenate(ret)\n",
        "    return np.empty((0,5))"
      ],
      "metadata": {
        "id": "PNALYJXHjk3o"
      },
      "execution_count": null,
      "outputs": []
    },
    {
      "cell_type": "code",
      "source": [
        "namefile = \"MOT1614.mp4\"\n",
        "markfile = \"stk\"\n",
        "model = YOLO(\"yolov8n.pt\")\n",
        "tracker = Sort()\n",
        "colors = [(random.randint(0, 255), random.randint(0, 255),\n",
        "           random.randint(0, 255)) for _ in range(10)]\n",
        "detection_threshold = 0.37254\n",
        "cap = cv2.VideoCapture(namefile)\n",
        "width  = int(cap.get(cv2.CAP_PROP_FRAME_WIDTH))\n",
        "height = int(cap.get(cv2.CAP_PROP_FRAME_HEIGHT))\n",
        "length = int(cap.get(cv2.CAP_PROP_FRAME_COUNT))\n",
        "# Define the codec and create VideoWriter object\n",
        "fourcc = cv2.VideoWriter_fourcc(*'MP4V') #codec\n",
        "out = cv2.VideoWriter(markfile+namefile, fourcc, 20.0, (width,  height))\n",
        "counter=0\n",
        "pts = [deque(maxlen=30) for _ in range(10000)]\n",
        "while cap.isOpened():\n",
        "\n",
        "  ret, frame = cap.read()\n",
        "  if not ret:\n",
        "    print(\"Fineshed ...\")\n",
        "    break\n",
        "\n",
        "  results = model(frame)\n",
        "\n",
        "  for result in results:\n",
        "    detections = []\n",
        "    for r in result.boxes.data.tolist():\n",
        "      x1, y1, x2, y2, score, class_id = r\n",
        "      x1 = int(x1)\n",
        "      x2 = int(x2)\n",
        "      y1 = int(y1)\n",
        "      y2 = int(y2)\n",
        "      if score > detection_threshold:\n",
        "          detections.append([x1, y1, x2, y2])\n",
        "\n",
        "    tracks = tracker.update(np.array(detections))\n",
        "    tracks = tracks.astype(int)\n",
        "\n",
        "    for x1, y1, x2, y2, track_id in tracks:\n",
        "      frame = cv2.rectangle(frame, (int(x1), int(y1)), (int(x2), int(y2)),\n",
        "       (colors[track_id % len(colors)]), 3)\n",
        "      name = f\"Id: {track_id}\"\n",
        "      frame = cv2.rectangle(frame, (int(x1), int(y1-30)),\n",
        "       (int(x1)+(len(name))*17,int(y1)), (colors[track_id % len(colors)]), -1)\n",
        "      frame = cv2.putText(frame, name, (int(x1), int(y1-10)), 0, 0.75,\n",
        "       (255, 255, 255), 2)\n",
        "      frame = cv2.rectangle(frame, (0, 0), (260, 40), (45,232,101), -1)\n",
        "      frame = cv2.putText(frame, \"SORT, Tracking \", (5, 25), 2, 0.75,\n",
        "                        (255, 255, 255 ), 2)\n",
        "      #MOT Exercise, trayectory history\n",
        "      center = (int(((x1+x2)/2)),int(((y1+y2)/2)))\n",
        "      pts[track_id].append(center)\n",
        "      #MOT Exercise, trayectory history\n",
        "      for j in range(1, len(pts[track_id])):\n",
        "        if pts[track_id][j-1] is None or pts[track_id][j] is None:\n",
        "          continue\n",
        "        thickness = int(np.sqrt(64/float(j+1))*2)\n",
        "        frame = cv2.line(frame, (pts[track_id][j-1]), (pts[track_id][j]),\n",
        "                                colors[track_id % len(colors)], thickness)\n",
        "\n",
        "  counter+=1\n",
        "  # if counter == 440:\n",
        "  #     break\n",
        "  print(\"Progress: \",counter,\"/\",length)\n",
        "  out.write(frame)\n",
        "\n",
        "cap.release()\n",
        "out.release()\n",
        "cv2.destroyAllWindows()"
      ],
      "metadata": {
        "id": "XFj1kAXmbsYR"
      },
      "execution_count": null,
      "outputs": []
    },
    {
      "cell_type": "code",
      "source": [
        "cap = cv2.VideoCapture(markfile+namefile)\n",
        "framewant = 28\n",
        "counter = 0\n",
        "while cap.isOpened():\n",
        "\n",
        "  ret, frame = cap.read()\n",
        "  if not ret:\n",
        "    print(\"Fineshed ...\")\n",
        "    break\n",
        "  cv2.imwrite(markfile+namefile[:-4]+'frame'+str(framewant)+'.jpg',frame)\n",
        "  counter+=1\n",
        "  if counter == framewant:\n",
        "      break\n",
        "  print(\"Progress: \",counter,\"/\",length)\n",
        "\n",
        "cap.release()\n",
        "cv2.destroyAllWindows()"
      ],
      "metadata": {
        "id": "jAgBc6QNWjOd"
      },
      "execution_count": null,
      "outputs": []
    }
  ]
}